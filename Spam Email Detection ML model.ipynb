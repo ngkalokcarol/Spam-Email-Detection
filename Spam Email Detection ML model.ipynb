{
 "cells": [
  {
   "cell_type": "markdown",
   "id": "7f08cbdc",
   "metadata": {},
   "source": [
    "# Spam VS Non-Spam emails\n",
    "\n",
    "Download the dataset on spam vs. non-spam emails from the following URL: http://archive.ics.uci.edu/ml/datasets/Spambase. Specifically, (i) file “spambase.data” contains the actual data, and (ii) files “spambase.names” and “spambase.DOCUMENTATION” contain the description of the data.\n",
    "\n",
    "This dataset has 4601 records, each record representing a different email message. Each record is described with 58 attributes (indicated in the aforementioned .names file): attributes 1-57 represent various content-based characteristics already extracted from each email message (related to the frequency of certain words or certain punctuation symbols in a message as well as to the usage of capital letters in a message), and the last attribute represents the class label for each message (spam or non-spam).\n",
    "\n",
    "Task: The general task for this assignment is to build two different models for detecting spam messages (based on the email characteristics that are given):\n",
    "\n",
    "The best possible model that you can build in terms of the overall predictive accuracy (i.e., not taking any cost information into account)\n"
   ]
  },
  {
   "cell_type": "markdown",
   "id": "f3af24e8",
   "metadata": {},
   "source": [
    "### Loading and Exploring the Data"
   ]
  },
  {
   "cell_type": "code",
   "execution_count": 1,
   "id": "029d3dce",
   "metadata": {},
   "outputs": [],
   "source": [
    "import pandas as pd\n",
    "import numpy as np\n",
    "import matplotlib.pyplot as plt\n",
    "import seaborn as sns\n",
    "from sklearn.model_selection import train_test_split, cross_val_score\n",
    "from sklearn.linear_model import LinearRegression\n",
    "from sklearn.linear_model import ElasticNet\n",
    "from sklearn import tree # Decision Tree\n",
    "from sklearn import neighbors # K Nearest Neighbor\n",
    "from sklearn.svm import SVC # SVM Classification\n",
    "from sklearn.neural_network import MLPClassifier # Neural Network Classification\n",
    "from sklearn.metrics import mean_squared_error, r2_score, f1_score\n",
    "from sklearn import preprocessing \n",
    "from sklearn.neighbors import KNeighborsRegressor\n",
    "from sklearn.linear_model import LogisticRegression\n",
    "from sklearn.model_selection import GridSearchCV, KFold,train_test_split, StratifiedKFold\n",
    "from sklearn.tree import DecisionTreeClassifier\n",
    "from sklearn.metrics import r2_score\n",
    "from sklearn.metrics import make_scorer\n",
    "from sklearn.svm import SVR\n",
    "from sklearn.preprocessing import MinMaxScaler # Normalization Min-Max\n",
    "from sklearn.preprocessing import StandardScaler # Normalization Min-Max\n",
    "from sklearn.neighbors import KNeighborsClassifier\n",
    "from sklearn.neural_network import MLPRegressor\n",
    "from sklearn.pipeline import Pipeline # Making Pipelines\n",
    "import xgboost\n",
    "from xgboost import XGBRegressor\n",
    "from lightgbm import LGBMClassifier\n",
    "from sklearn.metrics import plot_confusion_matrix, classification_report\n",
    "import warnings \n",
    "warnings.filterwarnings('ignore')"
   ]
  },
  {
   "cell_type": "markdown",
   "id": "91a50203",
   "metadata": {},
   "source": [
    "## Loading Data and Data Exploration"
   ]
  },
  {
   "cell_type": "code",
   "execution_count": 2,
   "id": "9001207d",
   "metadata": {},
   "outputs": [],
   "source": [
    "# Reading the data into DataFrame\n",
    "\n",
    "df = pd.read_csv('spambase.data', header=None, names= [\"wfmake\", \"wfaddress\", \"wfall\", \"wf3d\", \"wfour\", \"wfover\", \"wfremove\", \"wfinternet\", \n",
    "                \"wforder\", \"wfmail\", \"wfreceive\", \"wfwill\", \"wfpeople\", \"wfreport\", \"wfaddresses\", \n",
    "                \"wffree\", \"wfbusiness\", \"wfemail\", \"wfyou\", \"wfcredit\", \"wfyour\", \"wffont\", \"wf000\", \n",
    "                \"wfmoney\", \"wfhp\", \"wfhpl\", \"wfgeorge\", \"wf650\", \"wflab\", \"wflabs\", \"wftelnet\", \"wf857\", \n",
    "                \"wfdata\", \"wf415\", \"wf85\", \"wftechnology\", \"wf1999\", \"wfparts\", \"wfpm\", \"wfdirect\", \"wfcs\", \n",
    "                \"wfmeeting\", \"wforiginal\", \"wfproject\", \"wfre\", \"wfedu\", \"wftable\", \"wfconference\", \n",
    "                'cf%3B', 'cf#28', 'cf%5B', 'cf%21', 'cf%24', 'cf%23',  \n",
    "                \"cap_avg\",\"cap_longest\",\"cap_total\",\"class\"]) "
   ]
  },
  {
   "cell_type": "code",
   "execution_count": 3,
   "id": "d8784bd6",
   "metadata": {},
   "outputs": [
    {
     "name": "stdout",
     "output_type": "stream",
     "text": [
      "<class 'pandas.core.frame.DataFrame'>\n",
      "RangeIndex: 4601 entries, 0 to 4600\n",
      "Data columns (total 58 columns):\n",
      " #   Column        Non-Null Count  Dtype  \n",
      "---  ------        --------------  -----  \n",
      " 0   wfmake        4601 non-null   float64\n",
      " 1   wfaddress     4601 non-null   float64\n",
      " 2   wfall         4601 non-null   float64\n",
      " 3   wf3d          4601 non-null   float64\n",
      " 4   wfour         4601 non-null   float64\n",
      " 5   wfover        4601 non-null   float64\n",
      " 6   wfremove      4601 non-null   float64\n",
      " 7   wfinternet    4601 non-null   float64\n",
      " 8   wforder       4601 non-null   float64\n",
      " 9   wfmail        4601 non-null   float64\n",
      " 10  wfreceive     4601 non-null   float64\n",
      " 11  wfwill        4601 non-null   float64\n",
      " 12  wfpeople      4601 non-null   float64\n",
      " 13  wfreport      4601 non-null   float64\n",
      " 14  wfaddresses   4601 non-null   float64\n",
      " 15  wffree        4601 non-null   float64\n",
      " 16  wfbusiness    4601 non-null   float64\n",
      " 17  wfemail       4601 non-null   float64\n",
      " 18  wfyou         4601 non-null   float64\n",
      " 19  wfcredit      4601 non-null   float64\n",
      " 20  wfyour        4601 non-null   float64\n",
      " 21  wffont        4601 non-null   float64\n",
      " 22  wf000         4601 non-null   float64\n",
      " 23  wfmoney       4601 non-null   float64\n",
      " 24  wfhp          4601 non-null   float64\n",
      " 25  wfhpl         4601 non-null   float64\n",
      " 26  wfgeorge      4601 non-null   float64\n",
      " 27  wf650         4601 non-null   float64\n",
      " 28  wflab         4601 non-null   float64\n",
      " 29  wflabs        4601 non-null   float64\n",
      " 30  wftelnet      4601 non-null   float64\n",
      " 31  wf857         4601 non-null   float64\n",
      " 32  wfdata        4601 non-null   float64\n",
      " 33  wf415         4601 non-null   float64\n",
      " 34  wf85          4601 non-null   float64\n",
      " 35  wftechnology  4601 non-null   float64\n",
      " 36  wf1999        4601 non-null   float64\n",
      " 37  wfparts       4601 non-null   float64\n",
      " 38  wfpm          4601 non-null   float64\n",
      " 39  wfdirect      4601 non-null   float64\n",
      " 40  wfcs          4601 non-null   float64\n",
      " 41  wfmeeting     4601 non-null   float64\n",
      " 42  wforiginal    4601 non-null   float64\n",
      " 43  wfproject     4601 non-null   float64\n",
      " 44  wfre          4601 non-null   float64\n",
      " 45  wfedu         4601 non-null   float64\n",
      " 46  wftable       4601 non-null   float64\n",
      " 47  wfconference  4601 non-null   float64\n",
      " 48  cf%3B         4601 non-null   float64\n",
      " 49  cf#28         4601 non-null   float64\n",
      " 50  cf%5B         4601 non-null   float64\n",
      " 51  cf%21         4601 non-null   float64\n",
      " 52  cf%24         4601 non-null   float64\n",
      " 53  cf%23         4601 non-null   float64\n",
      " 54  cap_avg       4601 non-null   float64\n",
      " 55  cap_longest   4601 non-null   int64  \n",
      " 56  cap_total     4601 non-null   int64  \n",
      " 57  class         4601 non-null   int64  \n",
      "dtypes: float64(55), int64(3)\n",
      "memory usage: 2.0 MB\n"
     ]
    }
   ],
   "source": [
    "# Checking the column types\n",
    "\n",
    "df.info()"
   ]
  },
  {
   "cell_type": "markdown",
   "id": "d6540608",
   "metadata": {},
   "source": [
    "Almost all the predictor columns are continuous. The response variable 'class' is binary with - 0: Non Spam 1: Spam"
   ]
  },
  {
   "cell_type": "code",
   "execution_count": 4,
   "id": "f303b7a8",
   "metadata": {},
   "outputs": [
    {
     "data": {
      "text/html": [
       "<div>\n",
       "<style scoped>\n",
       "    .dataframe tbody tr th:only-of-type {\n",
       "        vertical-align: middle;\n",
       "    }\n",
       "\n",
       "    .dataframe tbody tr th {\n",
       "        vertical-align: top;\n",
       "    }\n",
       "\n",
       "    .dataframe thead th {\n",
       "        text-align: right;\n",
       "    }\n",
       "</style>\n",
       "<table border=\"1\" class=\"dataframe\">\n",
       "  <thead>\n",
       "    <tr style=\"text-align: right;\">\n",
       "      <th></th>\n",
       "      <th>wfmake</th>\n",
       "      <th>wfaddress</th>\n",
       "      <th>wfall</th>\n",
       "      <th>wf3d</th>\n",
       "      <th>wfour</th>\n",
       "      <th>wfover</th>\n",
       "      <th>wfremove</th>\n",
       "      <th>wfinternet</th>\n",
       "      <th>wforder</th>\n",
       "      <th>wfmail</th>\n",
       "      <th>...</th>\n",
       "      <th>cf%3B</th>\n",
       "      <th>cf#28</th>\n",
       "      <th>cf%5B</th>\n",
       "      <th>cf%21</th>\n",
       "      <th>cf%24</th>\n",
       "      <th>cf%23</th>\n",
       "      <th>cap_avg</th>\n",
       "      <th>cap_longest</th>\n",
       "      <th>cap_total</th>\n",
       "      <th>class</th>\n",
       "    </tr>\n",
       "  </thead>\n",
       "  <tbody>\n",
       "    <tr>\n",
       "      <th>count</th>\n",
       "      <td>4601.000000</td>\n",
       "      <td>4601.000000</td>\n",
       "      <td>4601.000000</td>\n",
       "      <td>4601.000000</td>\n",
       "      <td>4601.000000</td>\n",
       "      <td>4601.000000</td>\n",
       "      <td>4601.000000</td>\n",
       "      <td>4601.000000</td>\n",
       "      <td>4601.000000</td>\n",
       "      <td>4601.000000</td>\n",
       "      <td>...</td>\n",
       "      <td>4601.000000</td>\n",
       "      <td>4601.000000</td>\n",
       "      <td>4601.000000</td>\n",
       "      <td>4601.000000</td>\n",
       "      <td>4601.000000</td>\n",
       "      <td>4601.000000</td>\n",
       "      <td>4601.000000</td>\n",
       "      <td>4601.000000</td>\n",
       "      <td>4601.000000</td>\n",
       "      <td>4601.000000</td>\n",
       "    </tr>\n",
       "    <tr>\n",
       "      <th>mean</th>\n",
       "      <td>0.104553</td>\n",
       "      <td>0.213015</td>\n",
       "      <td>0.280656</td>\n",
       "      <td>0.065425</td>\n",
       "      <td>0.312223</td>\n",
       "      <td>0.095901</td>\n",
       "      <td>0.114208</td>\n",
       "      <td>0.105295</td>\n",
       "      <td>0.090067</td>\n",
       "      <td>0.239413</td>\n",
       "      <td>...</td>\n",
       "      <td>0.038575</td>\n",
       "      <td>0.139030</td>\n",
       "      <td>0.016976</td>\n",
       "      <td>0.269071</td>\n",
       "      <td>0.075811</td>\n",
       "      <td>0.044238</td>\n",
       "      <td>5.191515</td>\n",
       "      <td>52.172789</td>\n",
       "      <td>283.289285</td>\n",
       "      <td>0.394045</td>\n",
       "    </tr>\n",
       "    <tr>\n",
       "      <th>std</th>\n",
       "      <td>0.305358</td>\n",
       "      <td>1.290575</td>\n",
       "      <td>0.504143</td>\n",
       "      <td>1.395151</td>\n",
       "      <td>0.672513</td>\n",
       "      <td>0.273824</td>\n",
       "      <td>0.391441</td>\n",
       "      <td>0.401071</td>\n",
       "      <td>0.278616</td>\n",
       "      <td>0.644755</td>\n",
       "      <td>...</td>\n",
       "      <td>0.243471</td>\n",
       "      <td>0.270355</td>\n",
       "      <td>0.109394</td>\n",
       "      <td>0.815672</td>\n",
       "      <td>0.245882</td>\n",
       "      <td>0.429342</td>\n",
       "      <td>31.729449</td>\n",
       "      <td>194.891310</td>\n",
       "      <td>606.347851</td>\n",
       "      <td>0.488698</td>\n",
       "    </tr>\n",
       "    <tr>\n",
       "      <th>min</th>\n",
       "      <td>0.000000</td>\n",
       "      <td>0.000000</td>\n",
       "      <td>0.000000</td>\n",
       "      <td>0.000000</td>\n",
       "      <td>0.000000</td>\n",
       "      <td>0.000000</td>\n",
       "      <td>0.000000</td>\n",
       "      <td>0.000000</td>\n",
       "      <td>0.000000</td>\n",
       "      <td>0.000000</td>\n",
       "      <td>...</td>\n",
       "      <td>0.000000</td>\n",
       "      <td>0.000000</td>\n",
       "      <td>0.000000</td>\n",
       "      <td>0.000000</td>\n",
       "      <td>0.000000</td>\n",
       "      <td>0.000000</td>\n",
       "      <td>1.000000</td>\n",
       "      <td>1.000000</td>\n",
       "      <td>1.000000</td>\n",
       "      <td>0.000000</td>\n",
       "    </tr>\n",
       "    <tr>\n",
       "      <th>25%</th>\n",
       "      <td>0.000000</td>\n",
       "      <td>0.000000</td>\n",
       "      <td>0.000000</td>\n",
       "      <td>0.000000</td>\n",
       "      <td>0.000000</td>\n",
       "      <td>0.000000</td>\n",
       "      <td>0.000000</td>\n",
       "      <td>0.000000</td>\n",
       "      <td>0.000000</td>\n",
       "      <td>0.000000</td>\n",
       "      <td>...</td>\n",
       "      <td>0.000000</td>\n",
       "      <td>0.000000</td>\n",
       "      <td>0.000000</td>\n",
       "      <td>0.000000</td>\n",
       "      <td>0.000000</td>\n",
       "      <td>0.000000</td>\n",
       "      <td>1.588000</td>\n",
       "      <td>6.000000</td>\n",
       "      <td>35.000000</td>\n",
       "      <td>0.000000</td>\n",
       "    </tr>\n",
       "    <tr>\n",
       "      <th>50%</th>\n",
       "      <td>0.000000</td>\n",
       "      <td>0.000000</td>\n",
       "      <td>0.000000</td>\n",
       "      <td>0.000000</td>\n",
       "      <td>0.000000</td>\n",
       "      <td>0.000000</td>\n",
       "      <td>0.000000</td>\n",
       "      <td>0.000000</td>\n",
       "      <td>0.000000</td>\n",
       "      <td>0.000000</td>\n",
       "      <td>...</td>\n",
       "      <td>0.000000</td>\n",
       "      <td>0.065000</td>\n",
       "      <td>0.000000</td>\n",
       "      <td>0.000000</td>\n",
       "      <td>0.000000</td>\n",
       "      <td>0.000000</td>\n",
       "      <td>2.276000</td>\n",
       "      <td>15.000000</td>\n",
       "      <td>95.000000</td>\n",
       "      <td>0.000000</td>\n",
       "    </tr>\n",
       "    <tr>\n",
       "      <th>75%</th>\n",
       "      <td>0.000000</td>\n",
       "      <td>0.000000</td>\n",
       "      <td>0.420000</td>\n",
       "      <td>0.000000</td>\n",
       "      <td>0.380000</td>\n",
       "      <td>0.000000</td>\n",
       "      <td>0.000000</td>\n",
       "      <td>0.000000</td>\n",
       "      <td>0.000000</td>\n",
       "      <td>0.160000</td>\n",
       "      <td>...</td>\n",
       "      <td>0.000000</td>\n",
       "      <td>0.188000</td>\n",
       "      <td>0.000000</td>\n",
       "      <td>0.315000</td>\n",
       "      <td>0.052000</td>\n",
       "      <td>0.000000</td>\n",
       "      <td>3.706000</td>\n",
       "      <td>43.000000</td>\n",
       "      <td>266.000000</td>\n",
       "      <td>1.000000</td>\n",
       "    </tr>\n",
       "    <tr>\n",
       "      <th>max</th>\n",
       "      <td>4.540000</td>\n",
       "      <td>14.280000</td>\n",
       "      <td>5.100000</td>\n",
       "      <td>42.810000</td>\n",
       "      <td>10.000000</td>\n",
       "      <td>5.880000</td>\n",
       "      <td>7.270000</td>\n",
       "      <td>11.110000</td>\n",
       "      <td>5.260000</td>\n",
       "      <td>18.180000</td>\n",
       "      <td>...</td>\n",
       "      <td>4.385000</td>\n",
       "      <td>9.752000</td>\n",
       "      <td>4.081000</td>\n",
       "      <td>32.478000</td>\n",
       "      <td>6.003000</td>\n",
       "      <td>19.829000</td>\n",
       "      <td>1102.500000</td>\n",
       "      <td>9989.000000</td>\n",
       "      <td>15841.000000</td>\n",
       "      <td>1.000000</td>\n",
       "    </tr>\n",
       "  </tbody>\n",
       "</table>\n",
       "<p>8 rows × 58 columns</p>\n",
       "</div>"
      ],
      "text/plain": [
       "            wfmake    wfaddress        wfall         wf3d        wfour  \\\n",
       "count  4601.000000  4601.000000  4601.000000  4601.000000  4601.000000   \n",
       "mean      0.104553     0.213015     0.280656     0.065425     0.312223   \n",
       "std       0.305358     1.290575     0.504143     1.395151     0.672513   \n",
       "min       0.000000     0.000000     0.000000     0.000000     0.000000   \n",
       "25%       0.000000     0.000000     0.000000     0.000000     0.000000   \n",
       "50%       0.000000     0.000000     0.000000     0.000000     0.000000   \n",
       "75%       0.000000     0.000000     0.420000     0.000000     0.380000   \n",
       "max       4.540000    14.280000     5.100000    42.810000    10.000000   \n",
       "\n",
       "            wfover     wfremove   wfinternet      wforder       wfmail  ...  \\\n",
       "count  4601.000000  4601.000000  4601.000000  4601.000000  4601.000000  ...   \n",
       "mean      0.095901     0.114208     0.105295     0.090067     0.239413  ...   \n",
       "std       0.273824     0.391441     0.401071     0.278616     0.644755  ...   \n",
       "min       0.000000     0.000000     0.000000     0.000000     0.000000  ...   \n",
       "25%       0.000000     0.000000     0.000000     0.000000     0.000000  ...   \n",
       "50%       0.000000     0.000000     0.000000     0.000000     0.000000  ...   \n",
       "75%       0.000000     0.000000     0.000000     0.000000     0.160000  ...   \n",
       "max       5.880000     7.270000    11.110000     5.260000    18.180000  ...   \n",
       "\n",
       "             cf%3B        cf#28        cf%5B        cf%21        cf%24  \\\n",
       "count  4601.000000  4601.000000  4601.000000  4601.000000  4601.000000   \n",
       "mean      0.038575     0.139030     0.016976     0.269071     0.075811   \n",
       "std       0.243471     0.270355     0.109394     0.815672     0.245882   \n",
       "min       0.000000     0.000000     0.000000     0.000000     0.000000   \n",
       "25%       0.000000     0.000000     0.000000     0.000000     0.000000   \n",
       "50%       0.000000     0.065000     0.000000     0.000000     0.000000   \n",
       "75%       0.000000     0.188000     0.000000     0.315000     0.052000   \n",
       "max       4.385000     9.752000     4.081000    32.478000     6.003000   \n",
       "\n",
       "             cf%23      cap_avg  cap_longest     cap_total        class  \n",
       "count  4601.000000  4601.000000  4601.000000   4601.000000  4601.000000  \n",
       "mean      0.044238     5.191515    52.172789    283.289285     0.394045  \n",
       "std       0.429342    31.729449   194.891310    606.347851     0.488698  \n",
       "min       0.000000     1.000000     1.000000      1.000000     0.000000  \n",
       "25%       0.000000     1.588000     6.000000     35.000000     0.000000  \n",
       "50%       0.000000     2.276000    15.000000     95.000000     0.000000  \n",
       "75%       0.000000     3.706000    43.000000    266.000000     1.000000  \n",
       "max      19.829000  1102.500000  9989.000000  15841.000000     1.000000  \n",
       "\n",
       "[8 rows x 58 columns]"
      ]
     },
     "execution_count": 4,
     "metadata": {},
     "output_type": "execute_result"
    }
   ],
   "source": [
    "# Checking the data distribution\n",
    "\n",
    "df.describe()"
   ]
  },
  {
   "cell_type": "code",
   "execution_count": 5,
   "id": "4c3b39b7",
   "metadata": {},
   "outputs": [
    {
     "data": {
      "text/plain": [
       "0    2788\n",
       "1    1813\n",
       "Name: class, dtype: int64"
      ]
     },
     "execution_count": 5,
     "metadata": {},
     "output_type": "execute_result"
    }
   ],
   "source": [
    "# Checking class balance\n",
    "\n",
    "df['class'].value_counts()"
   ]
  },
  {
   "cell_type": "code",
   "execution_count": 66,
   "id": "8c9c1ee7",
   "metadata": {},
   "outputs": [
    {
     "data": {
      "text/plain": [
       "<AxesSubplot:ylabel='Spam 1   Non-Spam 0'>"
      ]
     },
     "execution_count": 66,
     "metadata": {},
     "output_type": "execute_result"
    },
    {
     "data": {
      "image/png": "[encoded data removed]",
      "text/plain": [
       "<Figure size 432x288 with 1 Axes>"
      ]
     },
     "metadata": {},
     "output_type": "display_data"
    }
   ],
   "source": [
    "df.groupby('class').size().plot(kind='pie',\n",
    "                                y = \"class\",\n",
    "                                cmap='spring',\n",
    "                                label = \"Spam 1   Non-Spam 0\",\n",
    "                                autopct='%1.1f%%')"
   ]
  },
  {
   "cell_type": "markdown",
   "id": "32ca7eca",
   "metadata": {},
   "source": [
    "The records of Non-Spam (Class 0) is more than the number of Spam (Class 1), with 60:40 as the ratio. Even though it's not a huge difference, we should take into account of the class imbalance when we are building the model afterwards."
   ]
  },
  {
   "cell_type": "markdown",
   "id": "10214b6d",
   "metadata": {},
   "source": [
    "## Create train and test data\n",
    "\n",
    "I will use a train and test dataset with 80:20 split"
   ]
  },
  {
   "cell_type": "code",
   "execution_count": 8,
   "id": "de4ed085",
   "metadata": {},
   "outputs": [],
   "source": [
    "# Seperating predictor and response variables\n",
    "\n",
    "x = df.drop(['class'], axis = 1)\n",
    "y = df['class']"
   ]
  },
  {
   "cell_type": "code",
   "execution_count": 9,
   "id": "8523209f",
   "metadata": {},
   "outputs": [],
   "source": [
    "# Splitting test and train sets\n",
    "\n",
    "X_train, X_test, y_train, y_test = train_test_split(x, y, test_size = 0.4, random_state=42)"
   ]
  },
  {
   "cell_type": "markdown",
   "id": "cc7e266e",
   "metadata": {},
   "source": [
    "A test set with 20% of the data is kept for final evaluation"
   ]
  },
  {
   "cell_type": "markdown",
   "id": "645c3924",
   "metadata": {},
   "source": [
    "## Models Training\n",
    "\n",
    "We will train five different ML models and use Cross Validation to pick the best performing model.\n",
    "\n",
    "1. Decision Tree\n",
    "2. K Nearest Neighbors (KNN)\n",
    "3. Logistic Regression\n",
    "4. Support Vector Machine (SVM)\n",
    "5. XGBoost\n",
    "6. Neural Network"
   ]
  },
  {
   "cell_type": "markdown",
   "id": "562c5374",
   "metadata": {},
   "source": [
    "## Class Imbalance\n",
    "\n",
    "To account for Class Imbalance - we will use class_weight = 'balanced' wherever it is applicable"
   ]
  },
  {
   "cell_type": "markdown",
   "id": "759444ed",
   "metadata": {},
   "source": [
    "## Normalization using StandardScaler\n",
    "\n",
    "StandardScaler will normalize the data with mean = 0 and SD = 1\n",
    "Noted the imblance issue, we should also include class balance in the models parameters tuning.\n",
    "\n",
    "Standardization is more practical here because - many linear models, such as the logistic regression and SVM initialize the weights to 0 or small random values close to 0. Using standardization, we center the feature columns at mean 0 with standard deviation 1 so that the feature columns take the form of a normal distribution, which makes it easier to learn the weights.\n",
    "\n",
    "1. Decision Tree     \n",
    "    - We don't need to Normalize data for Decision Trees because of the nature of the algorithm\n",
    "\n",
    "2. K Nearest Neighbors (KNN)\n",
    "    - The data needs to be normalized so that no features have a disproportionate impact in making the prediction. The data is normalized on a 0 to 1 scale using Min-Max Scaler in the pipeline.\n",
    "    \n",
    "3. Logistic Regression\n",
    "\n",
    "    - For linear models like SVM and Logistic Regression, we will use StandardScaler instead of Min Max. StandardScaler normalizes the data such that the mean becomes 0 and standard deviation becomes 1.\n",
    "4. Support Vector Machine (SVM)\n",
    "\n",
    "    - For linear models like SVM and Logistic Regression, we will use StandardScaler instead of Min Max. StandardScaler normalizes the data such that the mean becomes 0 and standard deviation becomes 1.\n",
    "    \n",
    "5. XGBoost\n",
    "    - Since XGBoost is a tree based model, we don't need need to Normalize the data\n",
    "    \n",
    "6. Neural Network\n",
    "    - Neural Networks doesn't have parameters to set class weight"
   ]
  },
  {
   "cell_type": "code",
   "execution_count": 10,
   "id": "ac4f48cf",
   "metadata": {},
   "outputs": [],
   "source": [
    "standardscaler = preprocessing.StandardScaler().fit(X_train) \n",
    "X_train = standardscaler.fit_transform(X_train) \n",
    "X_test = standardscaler.transform(X_test)"
   ]
  },
  {
   "cell_type": "markdown",
   "id": "d8d11b33",
   "metadata": {},
   "source": [
    "## Initalizing Models and Parameter Grids"
   ]
  },
  {
   "cell_type": "markdown",
   "id": "4c4a5ad1",
   "metadata": {},
   "source": [
    "### Decision Tree"
   ]
  },
  {
   "cell_type": "code",
   "execution_count": 11,
   "id": "b2579608",
   "metadata": {},
   "outputs": [],
   "source": [
    "# Default Decision Tree\n",
    "\n",
    "clf_dt = tree.DecisionTreeClassifier(class_weight = 'balanced')\n",
    "\n",
    "# Decision Tree Param Grid\n",
    "\n",
    "p_grid_dt = [{'criterion' : ['gini', 'entropy'], 'max_depth' : [3,4,5,6,7,8,9,10,11,12,13],\n",
    "'min_samples_split' : [2,3,4], 'min_samples_leaf': [1,2] }]"
   ]
  },
  {
   "cell_type": "markdown",
   "id": "3366c18b",
   "metadata": {},
   "source": [
    "### KNN"
   ]
  },
  {
   "cell_type": "code",
   "execution_count": 12,
   "id": "98876c41",
   "metadata": {},
   "outputs": [],
   "source": [
    "# Default KNN\n",
    "\n",
    "clf_knn_pipe = Pipeline([('mms', MinMaxScaler()), ('knn', neighbors.KNeighborsClassifier())])\n",
    "\n",
    "# KNN Parameter Grid\n",
    "\n",
    "p_grid_knn = [{'knn__n_neighbors' : [3,4,5,6,7,8,9,10,11,12], 'knn__weights' : ['uniform', 'distance']}]"
   ]
  },
  {
   "cell_type": "markdown",
   "id": "1ac20fb8",
   "metadata": {},
   "source": [
    "### Logistic Regression"
   ]
  },
  {
   "cell_type": "code",
   "execution_count": 13,
   "id": "7ce9b752",
   "metadata": {},
   "outputs": [],
   "source": [
    "# Default Logistic Regression\n",
    "\n",
    "clf_lr_pipe = Pipeline([('sc', StandardScaler()), ('lr', LogisticRegression(class_weight = 'balanced'))])\n",
    "\n",
    "# Logistic Regressiong Parameter Grid\n",
    "\n",
    "p_grid_lr = [{'lr__solver' : ['saga','liblinear'], 'lr__penalty' : ['l2','l1'],\n",
    "                'lr__C' : [0.001, 0.01, 0.1, 1, 10, 100, 1000]}]"
   ]
  },
  {
   "cell_type": "markdown",
   "id": "897c0a0a",
   "metadata": {},
   "source": [
    "### Support Vector Machine (SVM)"
   ]
  },
  {
   "cell_type": "code",
   "execution_count": 14,
   "id": "82b57f09",
   "metadata": {},
   "outputs": [],
   "source": [
    "# Default SVM\n",
    "\n",
    "clf_svm_pipe = Pipeline([('sc', StandardScaler()), ('svm', SVC(class_weight = 'balanced'))])\n",
    "\n",
    "# SVM Parameter Grid\n",
    "\n",
    "p_grid_svm = [{'svm__ke### Support Vector Machine (SVM)rnel': ['rbf'], 'svm__gamma': [0.01, 1e-3, 1e-4], 'svm__C': [0.1, 1, 10, 100, 1000]}]"
   ]
  },
  {
   "cell_type": "markdown",
   "id": "fee0bc41",
   "metadata": {},
   "source": [
    "### XGBoost"
   ]
  },
  {
   "cell_type": "code",
   "execution_count": 15,
   "id": "0858bec2",
   "metadata": {},
   "outputs": [],
   "source": [
    "# XGBoo### XGBoostst\n",
    "\n",
    "clf_xgb = xgboost.XGBClassifier(scale_pos_weight = 1.53)\n",
    "\n",
    "# XGBoost Parameter Grid\n",
    "\n",
    "p_grid_xgb = [{'max_depth': [5,6,7,8,9], 'eta': [0.2, 0.3, 0.4], 'colsample_bytree': [0.8, 1]}]"
   ]
  },
  {
   "cell_type": "markdown",
   "id": "4db55427",
   "metadata": {},
   "source": [
    "### Neural Network"
   ]
  },
  {
   "cell_type": "code",
   "execution_count": 16,
   "id": "bb958dbf",
   "metadata": {},
   "outputs": [],
   "source": [
    "# Neural Networks\n",
    "\n",
    "clf_mlp_pipe = Pipeline([('sc', StandardScaler()), ('mlp', MLPClassifier())])\n",
    "\n",
    "# Neural Networks Parameter Grid\n",
    "\n",
    "p_grid_mlp = [{'mlp__alpha': [0.001, 0.0001, 0.00001], 'mlp__max_iter': [200]}]"
   ]
  },
  {
   "cell_type": "markdown",
   "id": "f44b2849",
   "metadata": {},
   "source": [
    "## Nested Cross Validation\n",
    "\n",
    "For scoring metric, as this question focus on overall accuracy, so we chose <b>Accuracy</b> as the metric. \n",
    "\n",
    "<b>Accuracy</b> : (True positives + True negatives) / # of all data points\n",
    "\n",
    "While this is the most intuitive metric, this could work very badly for highly imbalanced datasets – like for the spam filtering problem, where most emails are not likely to be spam. Let’s say you have a corpus of 1000 emails where you have 20 spam emails. An over simplistic model could classify all emails as not spam and still be 98% accurate\n",
    "\n",
    "<b>False positive</b> means it was not a spam and we called it spam.\n",
    "\n",
    "<b>False negative</b> means it was a spam and we didn’t label it spam.\n",
    "\n",
    "<b>Precision</b> = (TP / TP + FP)  and Recall = (TP / (TP + FN)).\n",
    "\n",
    "Increasing precision involves decreasing FP and increasing recall means decreasing FN.\n",
    "\n",
    "We don’t want to miss important mails, hence we would decrease FP and hence care more for <b>Precision</b>.\n",
    "\n",
    "I would also look into <b>Precision</b> as metrics. Lets compare both. "
   ]
  },
  {
   "cell_type": "markdown",
   "id": "f93aa97a",
   "metadata": {},
   "source": [
    "#### 1. Accuracy"
   ]
  },
  {
   "cell_type": "code",
   "execution_count": 28,
   "id": "0a15eb8e",
   "metadata": {},
   "outputs": [],
   "source": [
    "# Inner and outer CV\n",
    "inner_cv = KFold(n_splits=3, shuffle=True, random_state=10)\n",
    "outer_cv = KFold(n_splits=3, shuffle=True, random_state=11)\n",
    "\n",
    "# Define score metrics for parameters optimization and model selection\n",
    "score = 'accuracy'"
   ]
  },
  {
   "cell_type": "code",
   "execution_count": 29,
   "id": "21c2a6bb",
   "metadata": {},
   "outputs": [],
   "source": [
    "# Inner Loop: Grid seach for all 6 models\n",
    "\n",
    "dt_clf = GridSearchCV(estimator = clf_dt, param_grid = p_grid_dt, scoring = score, cv = inner_cv)\n",
    "knn_clf = GridSearchCV(estimator = clf_knn_pipe, param_grid = p_grid_knn, scoring = score, cv = inner_cv)\n",
    "lr_clf = GridSearchCV(estimator = clf_lr_pipe, param_grid = p_grid_lr, scoring = score, cv = inner_cv)\n",
    "svm_clf = GridSearchCV(estimator = clf_svm_pipe, param_grid = p_grid_svm, scoring = score, cv = inner_cv)\n",
    "mlp_clf = GridSearchCV(estimator = clf_mlp_pipe, param_grid = p_grid_mlp, scoring = score, cv = inner_cv)\n",
    "xgb_clf = GridSearchCV(estimator = clf_xgb, param_grid = p_grid_xgb, scoring = score, cv = inner_cv)\n",
    "\n",
    "# Outer Loop: Testing the performance of all 6 models\n",
    "\n",
    "dt_scores = cross_val_score(dt_clf, X = X_train, y = y_train, scoring = score, cv = outer_cv)\n",
    "dt_score = dt_scores.mean()\n",
    "knn_scores = cross_val_score(knn_clf, X = X_train, y = y_train, scoring = score, cv = outer_cv)\n",
    "knn_score = knn_scores.mean()\n",
    "lr_scores = cross_val_score(lr_clf, X = X_train, y = y_train, scoring = score, cv = outer_cv)\n",
    "lr_score = lr_scores.mean()\n",
    "svm_scores = cross_val_score(svm_clf, X = X_train, y = y_train, scoring = score, cv = outer_cv)\n",
    "svm_score = svm_scores.mean()\n",
    "mlp_scores = cross_val_score(mlp_clf, X = X_train, y = y_train, scoring = score, cv = outer_cv)\n",
    "mlp_score = mlp_scores.mean()\n",
    "xgb_scores = cross_val_score(xgb_clf, X = X_train, y = y_train, scoring = score, cv = outer_cv)\n",
    "xgb_score = xgb_scores.mean()"
   ]
  },
  {
   "cell_type": "markdown",
   "id": "260ab073",
   "metadata": {},
   "source": [
    "#### Comparing Model Performance (Mean Accuracy)"
   ]
  },
  {
   "cell_type": "code",
   "execution_count": 30,
   "id": "fe78abd5",
   "metadata": {},
   "outputs": [
    {
     "name": "stdout",
     "output_type": "stream",
     "text": [
      "Mean accuracy of Decision Tree: 0.8978260869565218\n",
      "Standard Deviation for Decision Tree 0.0126\n",
      "\n",
      "Mean accuracy of KNN: 0.8942028985507245\n",
      "Standard Deviation for KNN 0.0054\n",
      "\n",
      "Mean accuracy of Logistic Regression: 0.9231884057971014\n",
      "Standard Deviation for Logistic Regression 0.0072\n",
      "\n",
      "Mean accuracy of SVM: nan\n",
      "Standard Deviation for SVM nan\n",
      "\n",
      "Mean accuracy of XGBoost: 0.9420289855072465\n",
      "Standard Deviation for XGBoost 0.0018\n",
      "\n",
      "Mean accuracy of Neural Network (MLP): 0.9300724637681159\n",
      "Standard Deviation for MLP 0.0034\n"
     ]
    }
   ],
   "source": [
    "print('Mean accuracy of Decision Tree:', dt_score)\n",
    "print('Standard Deviation for Decision Tree', round(np.std(dt_scores),4))\n",
    "print('')\n",
    "print('Mean accuracy of KNN:', knn_score)\n",
    "print('Standard Deviation for KNN', round(np.std(knn_scores),4))\n",
    "print('')\n",
    "print('Mean accuracy of Logistic Regression:', lr_score)\n",
    "print('Standard Deviation for Logistic Regression', round(np.std(lr_scores),4))\n",
    "print('')\n",
    "print('Mean accuracy of SVM:', svm_score)\n",
    "print('Standard Deviation for SVM', round(np.std(svm_scores),4))\n",
    "print('')\n",
    "print('Mean accuracy of XGBoost:', xgb_score)\n",
    "print('Standard Deviation for XGBoost', round(np.std(xgb_scores),4))\n",
    "print('')\n",
    "print('Mean accuracy of Neural Network (MLP):', mlp_score)\n",
    "print('Standard Deviation for MLP', round(np.std(mlp_scores),4))"
   ]
  },
  {
   "cell_type": "markdown",
   "id": "5b19e35b",
   "metadata": {},
   "source": [
    "#### 2. Precision"
   ]
  },
  {
   "cell_type": "code",
   "execution_count": 17,
   "id": "9464bc14",
   "metadata": {},
   "outputs": [],
   "source": [
    "# Inner and outer CV\n",
    "inner_cv1 = KFold(n_splits=3, shuffle=True, random_state=10)\n",
    "outer_cv1 = KFold(n_splits=3, shuffle=True, random_state=11)\n",
    "\n",
    "# Define score metrics for parameters optimization and model selection\n",
    "score1 = 'precision'"
   ]
  },
  {
   "cell_type": "code",
   "execution_count": 19,
   "id": "93db214a",
   "metadata": {},
   "outputs": [],
   "source": [
    "# Inner Loop: Grid seach for all 6 models\n",
    "\n",
    "dt_clf1 = GridSearchCV(estimator = clf_dt, param_grid = p_grid_dt, scoring = score1, cv = inner_cv1)\n",
    "knn_clf1 = GridSearchCV(estimator = clf_knn_pipe, param_grid = p_grid_knn, scoring = score1, cv = inner_cv1)\n",
    "lr_clf1 = GridSearchCV(estimator = clf_lr_pipe, param_grid = p_grid_lr, scoring = score1, cv = inner_cv1)\n",
    "svm_clf1 = GridSearchCV(estimator = clf_svm_pipe, param_grid = p_grid_svm, scoring = score1, cv = inner_cv1)\n",
    "mlp_clf1 = GridSearchCV(estimator = clf_mlp_pipe, param_grid = p_grid_mlp, scoring = score1, cv = inner_cv1)\n",
    "xgb_clf1 = GridSearchCV(estimator = clf_xgb, param_grid = p_grid_xgb, scoring = score1, cv = inner_cv1)\n",
    "\n",
    "# Outer Loop: Testing the performance of all 6 models\n",
    "\n",
    "dt_scores1 = cross_val_score(dt_clf1, X = X_train, y = y_train, scoring = score1, cv = outer_cv1)\n",
    "dt_score1 = dt_scores1.mean()\n",
    "knn_scores1 = cross_val_score(knn_clf1, X = X_train, y = y_train, scoring = score1, cv = outer_cv1)\n",
    "knn_score1 = knn_scores1.mean()\n",
    "lr_scores1 = cross_val_score(lr_clf1, X = X_train, y = y_train, scoring = score1, cv = outer_cv1)\n",
    "lr_score1 = lr_scores1.mean()\n",
    "svm_scores1 = cross_val_score(svm_clf1, X = X_train, y = y_train, scoring = score1, cv = outer_cv1)\n",
    "svm_score1 = svm_scores1.mean()\n",
    "mlp_scores1 = cross_val_score(mlp_clf1, X = X_train, y = y_train, scoring = score1, cv = outer_cv1)\n",
    "mlp_score1 = mlp_scores1.mean()\n",
    "xgb_scores1 = cross_val_score(xgb_clf1, X = X_train, y = y_train, scoring = score1, cv = outer_cv1)\n",
    "xgb_score1 = xgb_scores1.mean()"
   ]
  },
  {
   "cell_type": "markdown",
   "id": "22b41a72",
   "metadata": {},
   "source": [
    "#### Comparing Model Performance (Mean Precision)"
   ]
  },
  {
   "cell_type": "code",
   "execution_count": 20,
   "id": "e77e3062",
   "metadata": {},
   "outputs": [
    {
     "name": "stdout",
     "output_type": "stream",
     "text": [
      "Mean precision of Decision Tree: 0.8591459707311945\n",
      "Standard Deviation for Decision Tree 0.0588\n",
      "\n",
      "Mean precision of KNN: 0.9028545714148978\n",
      "Standard Deviation for KNN 0.0168\n",
      "\n",
      "Mean precision of Logistic Regression: 0.8931973753156139\n",
      "Standard Deviation for Logistic Regression 0.0211\n",
      "\n",
      "Mean precision of SVM: nan\n",
      "Standard Deviation for SVM nan\n",
      "\n",
      "Mean precision of XGBoost: 0.9249939551844779\n",
      "Standard Deviation for XGBoost 0.0214\n",
      "\n",
      "Mean precision of Neural Network (MLP): 0.9179791111177314\n",
      "Standard Deviation for MLP 0.018\n"
     ]
    }
   ],
   "source": [
    "print('Mean precision of Decision Tree:', dt_score1)\n",
    "print('Standard Deviation for Decision Tree', round(np.std(dt_scores1),4))\n",
    "print('')\n",
    "print('Mean precision of KNN:', knn_score1)\n",
    "print('Standard Deviation for KNN', round(np.std(knn_scores1),4))\n",
    "print('')\n",
    "print('Mean precision of Logistic Regression:', lr_score1)\n",
    "print('Standard Deviation for Logistic Regression', round(np.std(lr_scores1),4))\n",
    "print('')\n",
    "print('Mean precision of SVM:', svm_score1)\n",
    "print('Standard Deviation for SVM', round(np.std(svm_scores1),4))\n",
    "print('')\n",
    "print('Mean precision of XGBoost:', xgb_score1)\n",
    "print('Standard Deviation for XGBoost', round(np.std(xgb_scores1),4))\n",
    "print('')\n",
    "print('Mean precision of Neural Network (MLP):', mlp_score1)\n",
    "print('Standard Deviation for MLP', round(np.std(mlp_scores1),4))"
   ]
  },
  {
   "cell_type": "markdown",
   "id": "5c2d1511",
   "metadata": {},
   "source": [
    "#### XGBoost got the Highest Mean Performance in both Accuracy and Precision. We will run the best parameters and best scores for further tuning"
   ]
  },
  {
   "cell_type": "code",
   "execution_count": 21,
   "id": "a0beb64b",
   "metadata": {},
   "outputs": [
    {
     "data": {
      "text/plain": [
       "GridSearchCV(cv=KFold(n_splits=3, random_state=11, shuffle=True),\n",
       "             estimator=XGBClassifier(base_score=None, booster=None,\n",
       "                                     callbacks=None, colsample_bylevel=None,\n",
       "                                     colsample_bynode=None,\n",
       "                                     colsample_bytree=None,\n",
       "                                     early_stopping_rounds=None,\n",
       "                                     enable_categorical=False, eval_metric=None,\n",
       "                                     gamma=None, gpu_id=None, grow_policy=None,\n",
       "                                     importance_type=None,\n",
       "                                     interaction_constraint...\n",
       "                                     max_cat_to_onehot=None,\n",
       "                                     max_delta_step=None, max_depth=None,\n",
       "                                     max_leaves=None, min_child_weight=None,\n",
       "                                     missing=nan, monotone_constraints=None,\n",
       "                                     n_estimators=100, n_jobs=None,\n",
       "                                     num_parallel_tree=None, predictor=None,\n",
       "                                     random_state=None, reg_alpha=None,\n",
       "                                     reg_lambda=None, ...),\n",
       "             param_grid=[{'colsample_bytree': [0.8, 1], 'eta': [0.2, 0.3, 0.4],\n",
       "                          'max_depth': [5, 6, 7, 8, 9]}],\n",
       "             scoring='precision')"
      ]
     },
     "execution_count": 21,
     "metadata": {},
     "output_type": "execute_result"
    }
   ],
   "source": [
    "# Find the best parameter\n",
    "\n",
    "xgb_clf_final = GridSearchCV(estimator = clf_xgb, param_grid = p_grid_xgb, scoring = 'precision', cv = outer_cv1)\n",
    "xgb_clf_final.fit(X_train,y_train)"
   ]
  },
  {
   "cell_type": "code",
   "execution_count": 22,
   "id": "0dd2e9c6",
   "metadata": {},
   "outputs": [
    {
     "data": {
      "text/plain": [
       "{'colsample_bytree': 1, 'eta': 0.4, 'max_depth': 5}"
      ]
     },
     "execution_count": 22,
     "metadata": {},
     "output_type": "execute_result"
    }
   ],
   "source": [
    "#Best model params\n",
    "\n",
    "xgb_clf_final.best_params_"
   ]
  },
  {
   "cell_type": "code",
   "execution_count": 23,
   "id": "6a7c387b",
   "metadata": {},
   "outputs": [
    {
     "data": {
      "text/plain": [
       "0.9282480312564889"
      ]
     },
     "execution_count": 23,
     "metadata": {},
     "output_type": "execute_result"
    }
   ],
   "source": [
    "#Best model score\n",
    "\n",
    "xgb_clf_final.best_score_"
   ]
  },
  {
   "cell_type": "markdown",
   "id": "27802713",
   "metadata": {},
   "source": [
    "## Evaluating Performance of Best Model XGBoost"
   ]
  },
  {
   "cell_type": "code",
   "execution_count": 24,
   "id": "cea6215a",
   "metadata": {},
   "outputs": [],
   "source": [
    "# Run model for predictions\n",
    "\n",
    "y_pred = xgb_clf_final.predict(X_test)"
   ]
  },
  {
   "cell_type": "code",
   "execution_count": 67,
   "id": "59bd3c03",
   "metadata": {},
   "outputs": [
    {
     "data": {
      "image/png": "[encoded data removed]",
      "text/plain": [
       "<Figure size 432x288 with 2 Axes>"
      ]
     },
     "metadata": {
      "needs_background": "light"
     },
     "output_type": "display_data"
    }
   ],
   "source": [
    "plot_confusion_matrix(xgb_clf_final, X_test, y_test,\n",
    "                      cmap = 'spring',\n",
    "                     display_labels=['Spam', 'Non-Spam'])\n",
    "plt.show()"
   ]
  },
  {
   "cell_type": "code",
   "execution_count": 69,
   "id": "ebbcf4f7",
   "metadata": {},
   "outputs": [],
   "source": [
    "# ax= plt.subplot()\n",
    "# sns.heatmap(cf_matrix, annot=True, ax = ax,cmap='Blues',fmt=''); #annot=True to annotate cells\n",
    "\n",
    "# # labels, title and ticks\n",
    "# ax.set_xlabel('Predicted labels');\n",
    "# ax.set_ylabel('True labels'); \n",
    "# ax.set_title('Confusion Matrix'); \n",
    "# ax.xaxis.set_ticklabels(['Not Spam', 'Spam']); ax.yaxis.set_ticklabels(['Not Spam', 'Spam']);"
   ]
  },
  {
   "cell_type": "markdown",
   "id": "91a4c402",
   "metadata": {},
   "source": [
    "The number False Positives (47) and False Negatives (40) is very close in the confusion matrix.\n",
    "\n",
    "Majority of the predictions made by the model are correct. (95%)"
   ]
  },
  {
   "cell_type": "code",
   "execution_count": 70,
   "id": "ffa27792",
   "metadata": {},
   "outputs": [
    {
     "name": "stdout",
     "output_type": "stream",
     "text": [
      "              precision    recall  f1-score   support\n",
      "\n",
      "           0       0.96      0.96      0.96      1089\n",
      "           1       0.94      0.95      0.94       752\n",
      "\n",
      "    accuracy                           0.95      1841\n",
      "   macro avg       0.95      0.95      0.95      1841\n",
      "weighted avg       0.95      0.95      0.95      1841\n",
      "\n"
     ]
    }
   ],
   "source": [
    "# Classification Report for best model\n",
    "\n",
    "print(classification_report(y_test, y_pred))"
   ]
  },
  {
   "cell_type": "markdown",
   "id": "d6619eb0",
   "metadata": {},
   "source": [
    "The Overall Accuracy is 95% of of the Test Dataset, which is pretty good.\n",
    "\n",
    "Recall and precision are 94% and 95% to for classifying a Spam email."
   ]
  },
  {
   "cell_type": "code",
   "execution_count": 72,
   "id": "834e4491",
   "metadata": {},
   "outputs": [
    {
     "data": {
      "image/png": "[encoded data removed]",
      "text/plain": [
       "<Figure size 432x288 with 1 Axes>"
      ]
     },
     "metadata": {
      "needs_background": "light"
     },
     "output_type": "display_data"
    }
   ],
   "source": [
    "import scikitplot as skplt\n",
    "\n",
    "# Plot the lift curve\n",
    "\n",
    "y_prob = xgb_clf_final.predict_proba(X_test)\n",
    "\n",
    "skplt.metrics.plot_lift_curve(y_test, y_prob)\n",
    "plt.show() "
   ]
  },
  {
   "cell_type": "code",
   "execution_count": 74,
   "id": "c23df179",
   "metadata": {},
   "outputs": [
    {
     "data": {
      "image/png": "[encoded data removed]",
      "text/plain": [
       "<Figure size 432x288 with 1 Axes>"
      ]
     },
     "metadata": {
      "needs_background": "light"
     },
     "output_type": "display_data"
    }
   ],
   "source": [
    "# Plot ROC curve\n",
    "\n",
    "from sklearn.metrics import confusion_matrix, accuracy_score, precision_score, recall_score, f1_score\n",
    "from sklearn.metrics import roc_curve, auc, RocCurveDisplay, multilabel_confusion_matrix\n",
    "\n",
    "fpr, tpr, thresholds = roc_curve(y_test, y_pred)\n",
    "roc_auc = auc(fpr, tpr) \n",
    "display = RocCurveDisplay(fpr=fpr, tpr=tpr,\n",
    "                          roc_auc=roc_auc,\n",
    "                          estimator_name=\"XGBoost\")\n",
    "\n",
    "display.plot()\n",
    "plt.plot([0, 1], ls=\"--\")\n",
    "plt.title('Receiver Operating Characteristic - XGBoost')\n",
    "plt.ylabel('True Positive Rate')\n",
    "plt.xlabel('False Positive Rate')\n",
    "plt.show()"
   ]
  },
  {
   "cell_type": "markdown",
   "id": "d38735cc",
   "metadata": {},
   "source": [
    "The ROC curve of the XGBoost Model is close to a perfect classifier. It performs much better than a random classifier."
   ]
  },
  {
   "cell_type": "markdown",
   "id": "28ffe2fa",
   "metadata": {},
   "source": [
    "## Performance Discussion"
   ]
  },
  {
   "cell_type": "markdown",
   "id": "f7b129a1",
   "metadata": {},
   "source": [
    "Performance Discussion (Write-up)\n",
    "\n",
    "The order of best performing models is (when we are concerned with Precision):\n",
    "\n",
    "1. XGBoost (92.4%)\n",
    "3. SVM (90.7%)\n",
    "2. Neural Networks (92.1%)\n",
    "4. Logistic Regression (88.9%)\n",
    "5. K Nearest Neighbor (88.8%)\n",
    "6. Decision Trees (83.9%)\n",
    "\n",
    "The algorithms based on iterative learning like XGBoost and Neural Networks performed the best for overall accuracy with XGBoost being a clear winner. The simpler models like KNN, Deicision trees and Logistic Regression don't perform as well but still have reasonable accuracies and precision scores."
   ]
  }
 ],
 "metadata": {
  "kernelspec": {
   "display_name": "Python 3 (ipykernel)",
   "language": "python",
   "name": "python3"
  },
  "language_info": {
   "codemirror_mode": {
    "name": "ipython",
    "version": 3
   },
   "file_extension": ".py",
   "mimetype": "text/x-python",
   "name": "python",
   "nbconvert_exporter": "python",
   "pygments_lexer": "ipython3",
   "version": "3.9.7"
  }
 },
 "nbformat": 4,
 "nbformat_minor": 5
}
